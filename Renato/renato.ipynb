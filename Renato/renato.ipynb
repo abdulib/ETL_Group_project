{
 "cells": [
  {
   "cell_type": "code",
   "execution_count": 2,
   "metadata": {},
   "outputs": [],
   "source": [
    "import pandas as pd\n",
    "import json\n",
    "from pandas import ExcelFile"
   ]
  },
  {
   "cell_type": "code",
   "execution_count": 3,
   "metadata": {},
   "outputs": [],
   "source": [
    "# Read each sheet into a dataframe\n",
    "# Capturing just the state (col A) and 2017 and 2018 values\n",
    "# set the state as index to ease merging\n",
    "\n",
    "file = '../data/source/ConsDebt2003-2018XStatePerFed.xlsx'\n",
    "\n",
    "auto_df = pd.read_excel(file, sheet_name='auto', skiprows=3, index_col=None, usecols = \"A,P:Q\")\n",
    "auto_df=auto_df.set_index('state')\n",
    "cc_df = pd.read_excel(file, sheet_name='creditcard', skiprows=3, index_col=None, usecols = \"A,P:Q\")\n",
    "cc_df=cc_df.set_index('state')\n",
    "mortg_df = pd.read_excel(file, sheet_name='mortgage', skiprows=3, index_col=None, usecols = \"A,P:Q\")\n",
    "mortg_df=mortg_df.set_index('state')\n",
    "stloan_df = pd.read_excel(file, sheet_name='studentloan', skiprows=3, index_col=None, usecols = \"A,P:Q\")\n",
    "stloan_df=stloan_df.set_index('state')\n",
    "autod_df = pd.read_excel(file, sheet_name='auto_delinq', skiprows=3, index_col=None, usecols = \"A,P:Q\")\n",
    "autod_df=autod_df.set_index('state')\n",
    "ccd_df = pd.read_excel(file, sheet_name='creditcard_delinq', skiprows=3, index_col=None, usecols = \"A,P:Q\")\n",
    "ccd_df=ccd_df.set_index('state')\n",
    "mortgd_df = pd.read_excel(file, sheet_name='mortgage_delinq', skiprows=3, index_col=None, usecols = \"A,P:Q\")\n",
    "mortgd_df=mortgd_df.set_index('state')\n",
    "stloand_df = pd.read_excel(file, sheet_name='studentloan_delinq', skiprows=3, index_col=None, usecols = \"A,P:Q\")\n",
    "stloand_df=stloand_df.set_index('state')"
   ]
  },
  {
   "cell_type": "code",
   "execution_count": 4,
   "metadata": {},
   "outputs": [],
   "source": [
    "# Average 2017 and 2018 to a new column\n",
    "auto_df['debt_auto']=0.5*(auto_df['Q4_2017']+auto_df['Q4_2018'])\n",
    "cc_df['debt_cc']=0.5*(cc_df['Q4_2017']+auto_df['Q4_2018'])\n",
    "mortg_df['debt_mortg']=0.5*(mortg_df['Q4_2017']+auto_df['Q4_2018'])\n",
    "stloan_df['debt_stloan']=0.5*(stloan_df['Q4_2017']+auto_df['Q4_2018'])\n",
    "\n",
    "autod_df['pct_auto_delinq']=0.5*(autod_df['Q4_2017']+autod_df['Q4_2018'])\n",
    "ccd_df['pct_cc_delinq']=0.5*(ccd_df['Q4_2017']+ccd_df['Q4_2018'])\n",
    "mortgd_df['pct_mortg_delinq']=0.5*(mortgd_df['Q4_2017']+mortgd_df['Q4_2018'])\n",
    "stloand_df['pct_stloan_delinq']=0.5*(stloand_df['Q4_2017']+stloand_df['Q4_2018'])"
   ]
  },
  {
   "cell_type": "code",
   "execution_count": 5,
   "metadata": {},
   "outputs": [],
   "source": [
    "# drop original yearly values\n",
    "auto_df=auto_df.drop(['Q4_2017','Q4_2018'], axis=1)\n",
    "cc_df=cc_df.drop(['Q4_2017','Q4_2018'], axis=1)\n",
    "mortg_df=mortg_df.drop(['Q4_2017','Q4_2018'], axis=1)\n",
    "stloan_df=stloan_df.drop(['Q4_2017','Q4_2018'], axis=1)\n",
    "autod_df=autod_df.drop(['Q4_2017','Q4_2018'], axis=1)\n",
    "ccd_df=ccd_df.drop(['Q4_2017','Q4_2018'], axis=1)\n",
    "mortgd_df=mortgd_df.drop(['Q4_2017','Q4_2018'], axis=1)\n",
    "stloand_df=stloand_df.drop(['Q4_2017','Q4_2018'], axis=1)"
   ]
  },
  {
   "cell_type": "code",
   "execution_count": 15,
   "metadata": {},
   "outputs": [],
   "source": [
    "# Merge all dataframes (by index)\n",
    "\n",
    "# 2 by 2 - by subject\n",
    "df1 = pd.merge(auto_df, autod_df, left_index=True, right_index=True)\n",
    "df2 = pd.merge(cc_df,ccd_df, left_index=True, right_index=True)\n",
    "df3 = pd.merge(mortg_df,mortgd_df, left_index=True, right_index=True)\n",
    "df4 = pd.merge(stloan_df,stloand_df, left_index=True, right_index=True)\n",
    "\n",
    "# Combine all\n",
    "dfa = pd.merge(df1, df2, left_index=True, right_index=True)\n",
    "dfb = pd.merge(df3, df4, left_index=True, right_index=True)\n",
    "\n",
    "debt_df = pd.merge(dfa, dfb, left_index=True, right_index=True)\n",
    "\n",
    "# Drop Puerto Rico (not a state, no senators) and the last row \"allUS\" due to some missing data\n",
    "debt_df = debt_df.drop([\"PR\",\"allUS\"])"
   ]
  },
  {
   "cell_type": "code",
   "execution_count": 16,
   "metadata": {},
   "outputs": [],
   "source": [
    "debt_df = debt_df.reset_index()"
   ]
  },
  {
   "cell_type": "code",
   "execution_count": 17,
   "metadata": {},
   "outputs": [],
   "source": [
    "debt_df.rename(columns={'state':'state_po'}, inplace=True)"
   ]
  },
  {
   "cell_type": "code",
   "execution_count": 18,
   "metadata": {},
   "outputs": [
    {
     "data": {
      "text/html": [
       "<div>\n",
       "<style scoped>\n",
       "    .dataframe tbody tr th:only-of-type {\n",
       "        vertical-align: middle;\n",
       "    }\n",
       "\n",
       "    .dataframe tbody tr th {\n",
       "        vertical-align: top;\n",
       "    }\n",
       "\n",
       "    .dataframe thead th {\n",
       "        text-align: right;\n",
       "    }\n",
       "</style>\n",
       "<table border=\"1\" class=\"dataframe\">\n",
       "  <thead>\n",
       "    <tr style=\"text-align: right;\">\n",
       "      <th></th>\n",
       "      <th>state_po</th>\n",
       "      <th>debt_auto</th>\n",
       "      <th>pct_auto_delinq</th>\n",
       "      <th>debt_cc</th>\n",
       "      <th>pct_cc_delinq</th>\n",
       "      <th>debt_mortg</th>\n",
       "      <th>pct_mortg_delinq</th>\n",
       "      <th>debt_stloan</th>\n",
       "      <th>pct_stloan_delinq</th>\n",
       "    </tr>\n",
       "  </thead>\n",
       "  <tbody>\n",
       "    <tr>\n",
       "      <th>0</th>\n",
       "      <td>AK</td>\n",
       "      <td>4965.0</td>\n",
       "      <td>2.350730</td>\n",
       "      <td>4595.0</td>\n",
       "      <td>6.081184</td>\n",
       "      <td>23250.0</td>\n",
       "      <td>0.649275</td>\n",
       "      <td>4330.0</td>\n",
       "      <td>9.855371</td>\n",
       "    </tr>\n",
       "    <tr>\n",
       "      <th>1</th>\n",
       "      <td>AL</td>\n",
       "      <td>4870.0</td>\n",
       "      <td>5.951856</td>\n",
       "      <td>3665.0</td>\n",
       "      <td>7.707510</td>\n",
       "      <td>12980.0</td>\n",
       "      <td>1.076603</td>\n",
       "      <td>4785.0</td>\n",
       "      <td>14.279678</td>\n",
       "    </tr>\n",
       "    <tr>\n",
       "      <th>2</th>\n",
       "      <td>AR</td>\n",
       "      <td>5310.0</td>\n",
       "      <td>4.681963</td>\n",
       "      <td>3840.0</td>\n",
       "      <td>8.857235</td>\n",
       "      <td>11790.0</td>\n",
       "      <td>1.043419</td>\n",
       "      <td>4775.0</td>\n",
       "      <td>14.303569</td>\n",
       "    </tr>\n",
       "    <tr>\n",
       "      <th>3</th>\n",
       "      <td>AZ</td>\n",
       "      <td>5045.0</td>\n",
       "      <td>4.657981</td>\n",
       "      <td>4170.0</td>\n",
       "      <td>9.701708</td>\n",
       "      <td>20440.0</td>\n",
       "      <td>0.761147</td>\n",
       "      <td>5045.0</td>\n",
       "      <td>12.572649</td>\n",
       "    </tr>\n",
       "    <tr>\n",
       "      <th>4</th>\n",
       "      <td>CA</td>\n",
       "      <td>4480.0</td>\n",
       "      <td>3.889095</td>\n",
       "      <td>4000.0</td>\n",
       "      <td>8.299773</td>\n",
       "      <td>29610.0</td>\n",
       "      <td>0.644828</td>\n",
       "      <td>4455.0</td>\n",
       "      <td>9.740924</td>\n",
       "    </tr>\n",
       "  </tbody>\n",
       "</table>\n",
       "</div>"
      ],
      "text/plain": [
       "  state_po  debt_auto  pct_auto_delinq  debt_cc  pct_cc_delinq  debt_mortg  \\\n",
       "0       AK     4965.0         2.350730   4595.0       6.081184     23250.0   \n",
       "1       AL     4870.0         5.951856   3665.0       7.707510     12980.0   \n",
       "2       AR     5310.0         4.681963   3840.0       8.857235     11790.0   \n",
       "3       AZ     5045.0         4.657981   4170.0       9.701708     20440.0   \n",
       "4       CA     4480.0         3.889095   4000.0       8.299773     29610.0   \n",
       "\n",
       "   pct_mortg_delinq  debt_stloan  pct_stloan_delinq  \n",
       "0          0.649275       4330.0           9.855371  \n",
       "1          1.076603       4785.0          14.279678  \n",
       "2          1.043419       4775.0          14.303569  \n",
       "3          0.761147       5045.0          12.572649  \n",
       "4          0.644828       4455.0           9.740924  "
      ]
     },
     "execution_count": 18,
     "metadata": {},
     "output_type": "execute_result"
    }
   ],
   "source": [
    "debt_df.head()"
   ]
  },
  {
   "cell_type": "code",
   "execution_count": 14,
   "metadata": {},
   "outputs": [],
   "source": [
    "debt_df.to_csv('../data/clean/debt.csv')"
   ]
  }
 ],
 "metadata": {
  "kernelspec": {
   "display_name": "Python 3",
   "language": "python",
   "name": "python3"
  },
  "language_info": {
   "codemirror_mode": {
    "name": "ipython",
    "version": 3
   },
   "file_extension": ".py",
   "mimetype": "text/x-python",
   "name": "python",
   "nbconvert_exporter": "python",
   "pygments_lexer": "ipython3",
   "version": "3.7.1"
  }
 },
 "nbformat": 4,
 "nbformat_minor": 2
}
